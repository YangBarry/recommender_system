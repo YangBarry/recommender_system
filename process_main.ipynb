{
 "cells": [
  {
   "cell_type": "markdown",
   "source": [
    "# Final report - Data preprocessing\n",
    "## 0. Load Data\n",
    "We select the category **Cell Phones and Accessories** as our target data, including reviews data and metadata of items. Among available datasets we focus on two of them, **5-core** and **metadata**. **5-core** is a subset of the complete reviews data in which all users and items have at least 5 reviews. And **metadata** is the complete information dataset of items. Our main goal is to utilize the information of reviews, items and users if any, to establish a recommender system, which is expected to make appropriate recommendation for users.\n",
    "\n",
    "First, we define some functions to load these two datasets."
   ],
   "metadata": {
    "collapsed": false
   }
  },
  {
   "cell_type": "code",
   "execution_count": 4,
   "metadata": {
    "collapsed": true
   },
   "outputs": [],
   "source": [
    "import json\n",
    "import numpy as np\n",
    "import pandas as pd\n",
    "import gzip\n",
    "rng = np.random.RandomState(666)\n",
    "\n",
    "\n",
    "def parse(path):\n",
    "    g = gzip.open(path, 'rb')\n",
    "    for l in g:\n",
    "        yield json.loads(l)\n",
    "\n",
    "\n",
    "def getDF(path):\n",
    "    i = 0\n",
    "    df = {}\n",
    "    for d in parse(path):\n",
    "        df[i] = d\n",
    "        i += 1\n",
    "    return pd.DataFrame.from_dict(df, orient='index')"
   ]
  },
  {
   "cell_type": "code",
   "execution_count": 5,
   "outputs": [
    {
     "name": "stdout",
     "output_type": "stream",
     "text": [
      "Loading reviews data...\n",
      "Loading meta data...\n",
      "Loading other data...\n"
     ]
    }
   ],
   "source": [
    "print('Loading reviews data...')\n",
    "Reviews_df = getDF('./project/data/cell_phone.json.gz')\n",
    "print('Loading meta data...')\n",
    "Meta_df = getDF('./project/data/meta_Cell_Phones_and_Accessories.json.gz')\n",
    "print('Loading other data...')\n",
    "sentiment = pd.read_csv('./project/review_sentiment.csv')\n",
    "info = pd.read_csv('./project/reviewer_info.csv')"
   ],
   "metadata": {
    "collapsed": false,
    "pycharm": {
     "name": "#%%\n"
    }
   }
  },
  {
   "cell_type": "markdown",
   "source": [
    "## 1. Review dataset: **5-core**\n",
    "The review dataset contains 1128437 reviews from 157212 users to 48186 items. Each review is recorded corresponding to 12 features, including the overall rating, review text, review images and so on. We select six of them, `asin`, `reviewID`, `overall`, `verified`, `reviewText` and `summary`.\n",
    "- `asin`: item ID\n",
    "- `reviewer ID`: user ID\n",
    "- `overall`: rating\n",
    "- `verified`: if the user is verified or not\n",
    "- `reviewText`: review text\n",
    "- `summary`: summary of review text\n",
    "Among the above, `overall` is our target. `verified` is a binary variable about users. `reviewText` and `summary` will be used as text input."
   ],
   "metadata": {
    "collapsed": false,
    "pycharm": {
     "name": "#%% md\n"
    }
   }
  },
  {
   "cell_type": "code",
   "execution_count": 6,
   "outputs": [
    {
     "name": "stdout",
     "output_type": "stream",
     "text": [
      "There are 1128437 reviews.\n",
      "There are 48186 items.\n",
      "There are 157212 users.\n",
      "(1128437, 12)\n"
     ]
    },
    {
     "data": {
      "text/plain": "   overall  verified   reviewTime      reviewerID        asin  \\\n0      5.0      True   08 4, 2014  A24E3SXTC62LJI  7508492919   \n1      5.0      True  02 12, 2014  A269FLZCB4GIPV  7508492919   \n2      3.0      True   02 8, 2014   AB6CHQWHZW4TV  7508492919   \n3      2.0      True   02 4, 2014   A1M117A53LEI8  7508492919   \n4      4.0      True   02 3, 2014  A272DUT8M88ZS8  7508492919   \n\n                  style      reviewerName  \\\n0  {'Color:': ' Bling'}  Claudia Valdivia   \n1                   NaN       sarah ponce   \n2                   NaN               Kai   \n3                   NaN   Sharon Williams   \n4                   NaN   Bella Rodriguez   \n\n                                          reviewText  \\\n0  Looks even better in person. Be careful to not...   \n1  When you don't want to spend a whole lot of ca...   \n2  so the case came on time, i love the design. I...   \n3  DON'T CARE FOR IT.  GAVE IT AS A GIFT AND THEY...   \n4  I liked it because it was cute, but the studs ...   \n\n                               summary  unixReviewTime vote image  \n0  Can't stop won't stop looking at it      1407110400  NaN   NaN  \n1                                    1      1392163200  NaN   NaN  \n2                             Its okay      1391817600  NaN   NaN  \n3                                 CASE      1391472000  NaN   NaN  \n4                                Cute!      1391385600  NaN   NaN  ",
      "text/html": "<div>\n<style scoped>\n    .dataframe tbody tr th:only-of-type {\n        vertical-align: middle;\n    }\n\n    .dataframe tbody tr th {\n        vertical-align: top;\n    }\n\n    .dataframe thead th {\n        text-align: right;\n    }\n</style>\n<table border=\"1\" class=\"dataframe\">\n  <thead>\n    <tr style=\"text-align: right;\">\n      <th></th>\n      <th>overall</th>\n      <th>verified</th>\n      <th>reviewTime</th>\n      <th>reviewerID</th>\n      <th>asin</th>\n      <th>style</th>\n      <th>reviewerName</th>\n      <th>reviewText</th>\n      <th>summary</th>\n      <th>unixReviewTime</th>\n      <th>vote</th>\n      <th>image</th>\n    </tr>\n  </thead>\n  <tbody>\n    <tr>\n      <th>0</th>\n      <td>5.0</td>\n      <td>True</td>\n      <td>08 4, 2014</td>\n      <td>A24E3SXTC62LJI</td>\n      <td>7508492919</td>\n      <td>{'Color:': ' Bling'}</td>\n      <td>Claudia Valdivia</td>\n      <td>Looks even better in person. Be careful to not...</td>\n      <td>Can't stop won't stop looking at it</td>\n      <td>1407110400</td>\n      <td>NaN</td>\n      <td>NaN</td>\n    </tr>\n    <tr>\n      <th>1</th>\n      <td>5.0</td>\n      <td>True</td>\n      <td>02 12, 2014</td>\n      <td>A269FLZCB4GIPV</td>\n      <td>7508492919</td>\n      <td>NaN</td>\n      <td>sarah ponce</td>\n      <td>When you don't want to spend a whole lot of ca...</td>\n      <td>1</td>\n      <td>1392163200</td>\n      <td>NaN</td>\n      <td>NaN</td>\n    </tr>\n    <tr>\n      <th>2</th>\n      <td>3.0</td>\n      <td>True</td>\n      <td>02 8, 2014</td>\n      <td>AB6CHQWHZW4TV</td>\n      <td>7508492919</td>\n      <td>NaN</td>\n      <td>Kai</td>\n      <td>so the case came on time, i love the design. I...</td>\n      <td>Its okay</td>\n      <td>1391817600</td>\n      <td>NaN</td>\n      <td>NaN</td>\n    </tr>\n    <tr>\n      <th>3</th>\n      <td>2.0</td>\n      <td>True</td>\n      <td>02 4, 2014</td>\n      <td>A1M117A53LEI8</td>\n      <td>7508492919</td>\n      <td>NaN</td>\n      <td>Sharon Williams</td>\n      <td>DON'T CARE FOR IT.  GAVE IT AS A GIFT AND THEY...</td>\n      <td>CASE</td>\n      <td>1391472000</td>\n      <td>NaN</td>\n      <td>NaN</td>\n    </tr>\n    <tr>\n      <th>4</th>\n      <td>4.0</td>\n      <td>True</td>\n      <td>02 3, 2014</td>\n      <td>A272DUT8M88ZS8</td>\n      <td>7508492919</td>\n      <td>NaN</td>\n      <td>Bella Rodriguez</td>\n      <td>I liked it because it was cute, but the studs ...</td>\n      <td>Cute!</td>\n      <td>1391385600</td>\n      <td>NaN</td>\n      <td>NaN</td>\n    </tr>\n  </tbody>\n</table>\n</div>"
     },
     "execution_count": 6,
     "metadata": {},
     "output_type": "execute_result"
    }
   ],
   "source": [
    "print(f'There are {len(Reviews_df)} reviews.')\n",
    "print(f'There are {len(Reviews_df.asin.unique())} items.')\n",
    "print(f'There are {len(Reviews_df.reviewerID.unique())} users.')\n",
    "print(Reviews_df.shape)\n",
    "Reviews_df.head()"
   ],
   "metadata": {
    "collapsed": false,
    "pycharm": {
     "name": "#%%\n"
    }
   }
  },
  {
   "cell_type": "code",
   "execution_count": 7,
   "outputs": [
    {
     "name": "stdout",
     "output_type": "stream",
     "text": [
      "(1128437, 6)\n"
     ]
    },
    {
     "data": {
      "text/plain": "         asin      reviewerID  overall  verified  \\\n0  7508492919  A24E3SXTC62LJI      5.0         1   \n1  7508492919  A269FLZCB4GIPV      5.0         1   \n2  7508492919   AB6CHQWHZW4TV      3.0         1   \n3  7508492919   A1M117A53LEI8      2.0         1   \n4  7508492919  A272DUT8M88ZS8      4.0         1   \n\n                                          reviewText  \\\n0  Looks even better in person. Be careful to not...   \n1  When you don't want to spend a whole lot of ca...   \n2  so the case came on time, i love the design. I...   \n3  DON'T CARE FOR IT.  GAVE IT AS A GIFT AND THEY...   \n4  I liked it because it was cute, but the studs ...   \n\n                               summary  \n0  Can't stop won't stop looking at it  \n1                                    1  \n2                             Its okay  \n3                                 CASE  \n4                                Cute!  ",
      "text/html": "<div>\n<style scoped>\n    .dataframe tbody tr th:only-of-type {\n        vertical-align: middle;\n    }\n\n    .dataframe tbody tr th {\n        vertical-align: top;\n    }\n\n    .dataframe thead th {\n        text-align: right;\n    }\n</style>\n<table border=\"1\" class=\"dataframe\">\n  <thead>\n    <tr style=\"text-align: right;\">\n      <th></th>\n      <th>asin</th>\n      <th>reviewerID</th>\n      <th>overall</th>\n      <th>verified</th>\n      <th>reviewText</th>\n      <th>summary</th>\n    </tr>\n  </thead>\n  <tbody>\n    <tr>\n      <th>0</th>\n      <td>7508492919</td>\n      <td>A24E3SXTC62LJI</td>\n      <td>5.0</td>\n      <td>1</td>\n      <td>Looks even better in person. Be careful to not...</td>\n      <td>Can't stop won't stop looking at it</td>\n    </tr>\n    <tr>\n      <th>1</th>\n      <td>7508492919</td>\n      <td>A269FLZCB4GIPV</td>\n      <td>5.0</td>\n      <td>1</td>\n      <td>When you don't want to spend a whole lot of ca...</td>\n      <td>1</td>\n    </tr>\n    <tr>\n      <th>2</th>\n      <td>7508492919</td>\n      <td>AB6CHQWHZW4TV</td>\n      <td>3.0</td>\n      <td>1</td>\n      <td>so the case came on time, i love the design. I...</td>\n      <td>Its okay</td>\n    </tr>\n    <tr>\n      <th>3</th>\n      <td>7508492919</td>\n      <td>A1M117A53LEI8</td>\n      <td>2.0</td>\n      <td>1</td>\n      <td>DON'T CARE FOR IT.  GAVE IT AS A GIFT AND THEY...</td>\n      <td>CASE</td>\n    </tr>\n    <tr>\n      <th>4</th>\n      <td>7508492919</td>\n      <td>A272DUT8M88ZS8</td>\n      <td>4.0</td>\n      <td>1</td>\n      <td>I liked it because it was cute, but the studs ...</td>\n      <td>Cute!</td>\n    </tr>\n  </tbody>\n</table>\n</div>"
     },
     "execution_count": 7,
     "metadata": {},
     "output_type": "execute_result"
    }
   ],
   "source": [
    "import warnings\n",
    "warnings.filterwarnings('ignore')\n",
    "cols = ['asin', 'reviewerID', 'overall','verified', 'reviewText', 'summary']\n",
    "Reviews_DF = Reviews_df[cols]\n",
    "Reviews_DF['verified'] = [int(v) for v in Reviews_df.verified]\n",
    "print(Reviews_DF.shape)\n",
    "Reviews_DF.head()"
   ],
   "metadata": {
    "collapsed": false,
    "pycharm": {
     "name": "#%%\n"
    }
   }
  },
  {
   "cell_type": "markdown",
   "source": [
    "## 2. Item dataset: **metadata**\n",
    "The item dataset contains 589356 items. Each item is recorded corresponding to 19 features, including title, main category, images and so on. We select seven of them, `asin`, `main_cat`, `description`, `title`, `feature`, `price` and image.\n",
    "- `asin`: item ID\n",
    "- `main_cat`: main category of the item (categorical)\n",
    "- `description`: description of the item (text)\n",
    "- `title`: title of the item (text)\n",
    "- `feature`: feature of the item (text)\n",
    "- `price`: price of the item (categorical)\n",
    "- image: image of the item (image)\n",
    "\n",
    "Among the above, `main_cat` and `price` are categorical variables. Here we binarize the price for there are many items not labeled price (more than half), so if there is a price this variable is set to 1 otherwise 0. For `main_cat`, there are 29 main categories, covering office products, car electronics, home supplies, etc.\n",
    "`description`, `title` and `feature` are all text and remain to be processed to a standard format in the following."
   ],
   "metadata": {
    "collapsed": false
   }
  },
  {
   "cell_type": "code",
   "execution_count": 8,
   "outputs": [
    {
     "name": "stdout",
     "output_type": "stream",
     "text": [
      "There are 589356 items in metadata.\n",
      "There are 48210 items in 5-core dataset.\n"
     ]
    },
    {
     "data": {
      "text/plain": "         asin                                           category tech1  \\\n0  7508492919  [Cell Phones & Accessories, Cases, Holsters & ...         \n1  7532385086  [Cell Phones & Accessories, Cases, Holsters & ...         \n2  7887421268  [Cell Phones & Accessories, Cases, Holsters & ...         \n3  8288853439  [Cell Phones & Accessories, Accessories, Charg...         \n4  8288862993  [Cell Phones & Accessories, Accessories, Charg...         \n\n                                         description fit  \\\n0  [, Elegani Butterfly Case 3D Pattern Back Cove...       \n1  [Product Description\\nHTC EVO 4G, Rubberized P...       \n2  [Description:\\nProtect your phone with style t...       \n3  [Samsung Official OEM Travel Wall Charger for ...       \n4                                                 []       \n\n                                               title also_buy tech2  \\\n0  MinisDesign 3d Bling Crystal Bow Transparent C...       []         \n1  Rubberized Purple Wave Flower Snap on Design C...       []         \n2  Black And Pink Leopard Rubberized Snap on Desi...       []         \n3  Samsung Official OEM Travel Wall Charger for y...       []         \n4  Samsung New Version ECA-U11CBE Official OEM Ca...       []         \n\n        brand                                            feature  \\\n0     ELEGANI  [Fashionable with unique 3D butterfly design f...   \n1     Generic  [Rubberized Purple Wave Flower Snap on Design ...   \n2     Generic                                                 []   \n3  BlackBerry  [Safely charge your phone from your car using ...   \n4     Samsung  [Safely charge your phone from your car using ...   \n\n                                                rank also_view details  \\\n0  [>#228,544 in Cell Phones & Accessories (See T...        []      {}   \n1  [>#553,803 in Cell Phones & Accessories (See T...        []      {}   \n2  [>#440,155 in Cell Phones & Accessories (See T...        []      {}   \n3  [>#494,589 in Cell Phones & Accessories (See T...        []      {}   \n4  [>#337,417 in Cell Phones & Accessories (See T...        []      {}   \n\n                    main_cat similar_item date   price  \\\n0  Cell Phones & Accessories                             \n1  Cell Phones & Accessories                             \n2  Cell Phones & Accessories                     $5.95   \n3  Cell Phones & Accessories                             \n4  Cell Phones & Accessories                    $14.99   \n\n                                            imageURL  \\\n0  [https://images-na.ssl-images-amazon.com/image...   \n1                                                 []   \n2  [https://images-na.ssl-images-amazon.com/image...   \n3  [https://images-na.ssl-images-amazon.com/image...   \n4  [https://images-na.ssl-images-amazon.com/image...   \n\n                                     imageURLHighRes  \n0  [https://images-na.ssl-images-amazon.com/image...  \n1                                                 []  \n2  [https://images-na.ssl-images-amazon.com/image...  \n3  [https://images-na.ssl-images-amazon.com/image...  \n4  [https://images-na.ssl-images-amazon.com/image...  ",
      "text/html": "<div>\n<style scoped>\n    .dataframe tbody tr th:only-of-type {\n        vertical-align: middle;\n    }\n\n    .dataframe tbody tr th {\n        vertical-align: top;\n    }\n\n    .dataframe thead th {\n        text-align: right;\n    }\n</style>\n<table border=\"1\" class=\"dataframe\">\n  <thead>\n    <tr style=\"text-align: right;\">\n      <th></th>\n      <th>asin</th>\n      <th>category</th>\n      <th>tech1</th>\n      <th>description</th>\n      <th>fit</th>\n      <th>title</th>\n      <th>also_buy</th>\n      <th>tech2</th>\n      <th>brand</th>\n      <th>feature</th>\n      <th>rank</th>\n      <th>also_view</th>\n      <th>details</th>\n      <th>main_cat</th>\n      <th>similar_item</th>\n      <th>date</th>\n      <th>price</th>\n      <th>imageURL</th>\n      <th>imageURLHighRes</th>\n    </tr>\n  </thead>\n  <tbody>\n    <tr>\n      <th>0</th>\n      <td>7508492919</td>\n      <td>[Cell Phones &amp; Accessories, Cases, Holsters &amp; ...</td>\n      <td></td>\n      <td>[, Elegani Butterfly Case 3D Pattern Back Cove...</td>\n      <td></td>\n      <td>MinisDesign 3d Bling Crystal Bow Transparent C...</td>\n      <td>[]</td>\n      <td></td>\n      <td>ELEGANI</td>\n      <td>[Fashionable with unique 3D butterfly design f...</td>\n      <td>[&gt;#228,544 in Cell Phones &amp; Accessories (See T...</td>\n      <td>[]</td>\n      <td>{}</td>\n      <td>Cell Phones &amp; Accessories</td>\n      <td></td>\n      <td></td>\n      <td></td>\n      <td>[https://images-na.ssl-images-amazon.com/image...</td>\n      <td>[https://images-na.ssl-images-amazon.com/image...</td>\n    </tr>\n    <tr>\n      <th>1</th>\n      <td>7532385086</td>\n      <td>[Cell Phones &amp; Accessories, Cases, Holsters &amp; ...</td>\n      <td></td>\n      <td>[Product Description\\nHTC EVO 4G, Rubberized P...</td>\n      <td></td>\n      <td>Rubberized Purple Wave Flower Snap on Design C...</td>\n      <td>[]</td>\n      <td></td>\n      <td>Generic</td>\n      <td>[Rubberized Purple Wave Flower Snap on Design ...</td>\n      <td>[&gt;#553,803 in Cell Phones &amp; Accessories (See T...</td>\n      <td>[]</td>\n      <td>{}</td>\n      <td>Cell Phones &amp; Accessories</td>\n      <td></td>\n      <td></td>\n      <td></td>\n      <td>[]</td>\n      <td>[]</td>\n    </tr>\n    <tr>\n      <th>2</th>\n      <td>7887421268</td>\n      <td>[Cell Phones &amp; Accessories, Cases, Holsters &amp; ...</td>\n      <td></td>\n      <td>[Description:\\nProtect your phone with style t...</td>\n      <td></td>\n      <td>Black And Pink Leopard Rubberized Snap on Desi...</td>\n      <td>[]</td>\n      <td></td>\n      <td>Generic</td>\n      <td>[]</td>\n      <td>[&gt;#440,155 in Cell Phones &amp; Accessories (See T...</td>\n      <td>[]</td>\n      <td>{}</td>\n      <td>Cell Phones &amp; Accessories</td>\n      <td></td>\n      <td></td>\n      <td>$5.95</td>\n      <td>[https://images-na.ssl-images-amazon.com/image...</td>\n      <td>[https://images-na.ssl-images-amazon.com/image...</td>\n    </tr>\n    <tr>\n      <th>3</th>\n      <td>8288853439</td>\n      <td>[Cell Phones &amp; Accessories, Accessories, Charg...</td>\n      <td></td>\n      <td>[Samsung Official OEM Travel Wall Charger for ...</td>\n      <td></td>\n      <td>Samsung Official OEM Travel Wall Charger for y...</td>\n      <td>[]</td>\n      <td></td>\n      <td>BlackBerry</td>\n      <td>[Safely charge your phone from your car using ...</td>\n      <td>[&gt;#494,589 in Cell Phones &amp; Accessories (See T...</td>\n      <td>[]</td>\n      <td>{}</td>\n      <td>Cell Phones &amp; Accessories</td>\n      <td></td>\n      <td></td>\n      <td></td>\n      <td>[https://images-na.ssl-images-amazon.com/image...</td>\n      <td>[https://images-na.ssl-images-amazon.com/image...</td>\n    </tr>\n    <tr>\n      <th>4</th>\n      <td>8288862993</td>\n      <td>[Cell Phones &amp; Accessories, Accessories, Charg...</td>\n      <td></td>\n      <td>[]</td>\n      <td></td>\n      <td>Samsung New Version ECA-U11CBE Official OEM Ca...</td>\n      <td>[]</td>\n      <td></td>\n      <td>Samsung</td>\n      <td>[Safely charge your phone from your car using ...</td>\n      <td>[&gt;#337,417 in Cell Phones &amp; Accessories (See T...</td>\n      <td>[]</td>\n      <td>{}</td>\n      <td>Cell Phones &amp; Accessories</td>\n      <td></td>\n      <td></td>\n      <td>$14.99</td>\n      <td>[https://images-na.ssl-images-amazon.com/image...</td>\n      <td>[https://images-na.ssl-images-amazon.com/image...</td>\n    </tr>\n  </tbody>\n</table>\n</div>"
     },
     "execution_count": 8,
     "metadata": {},
     "output_type": "execute_result"
    }
   ],
   "source": [
    "print(f'There are {len(Meta_df.asin.unique())} items in metadata.')\n",
    "Items_df = pd.DataFrame({'asin': Reviews_df.asin.unique()})\n",
    "Items_DF = pd.merge(Items_df, Meta_df, on='asin', how='inner')\n",
    "print(f'There are {len(Items_DF)} items in 5-core dataset.')\n",
    "Items_DF.head()"
   ],
   "metadata": {
    "collapsed": false,
    "pycharm": {
     "name": "#%%\n"
    }
   }
  },
  {
   "cell_type": "markdown",
   "source": [
    "Here we delete the items without images."
   ],
   "metadata": {
    "collapsed": false
   }
  },
  {
   "cell_type": "code",
   "execution_count": 9,
   "outputs": [
    {
     "name": "stdout",
     "output_type": "stream",
     "text": [
      "There are 42726 items with images.\n"
     ]
    },
    {
     "data": {
      "text/plain": "(42726, 19)"
     },
     "execution_count": 9,
     "metadata": {},
     "output_type": "execute_result"
    }
   ],
   "source": [
    "haveimg = [len(img) > 0 for img in Items_DF.imageURL]\n",
    "print(f'There are {sum(haveimg)} items with images.')\n",
    "Items_DF = Items_DF.iloc[np.where(haveimg)[0]]\n",
    "Items_DF.shape"
   ],
   "metadata": {
    "collapsed": false,
    "pycharm": {
     "name": "#%%\n"
    }
   }
  },
  {
   "cell_type": "code",
   "execution_count": 10,
   "outputs": [],
   "source": [
    "cols = list(Items_DF)\n",
    "cols.remove('category')\n",
    "cols.remove('tech1')\n",
    "cols.remove('fit')\n",
    "cols.remove('also_buy')\n",
    "cols.remove('tech2')\n",
    "cols.remove('brand')\n",
    "cols.remove('rank')\n",
    "cols.remove('also_view')\n",
    "cols.remove('details')\n",
    "cols.remove('similar_item')\n",
    "cols.remove('date')\n",
    "cols.remove('imageURL')\n",
    "cols.remove('imageURLHighRes')"
   ],
   "metadata": {
    "collapsed": false,
    "pycharm": {
     "name": "#%%\n"
    }
   }
  },
  {
   "cell_type": "code",
   "execution_count": 11,
   "outputs": [
    {
     "name": "stdout",
     "output_type": "stream",
     "text": [
      "(42726, 6)\n"
     ]
    },
    {
     "data": {
      "text/plain": "         asin                                        description  \\\n0  7508492919  [, Elegani Butterfly Case 3D Pattern Back Cove...   \n2  7887421268  [Description:\\nProtect your phone with style t...   \n3  8288853439  [Samsung Official OEM Travel Wall Charger for ...   \n4  8288862993                                                 []   \n8  9578085451  [HTC Evo 4G LTE (Sprint) White Flowers Design ...   \n\n                                               title  \\\n0  MinisDesign 3d Bling Crystal Bow Transparent C...   \n2  Black And Pink Leopard Rubberized Snap on Desi...   \n3  Samsung Official OEM Travel Wall Charger for y...   \n4  Samsung New Version ECA-U11CBE Official OEM Ca...   \n8  HTC Evo 4G LTE (Sprint) White Flowers Design S...   \n\n                                             feature  \\\n0  [Fashionable with unique 3D butterfly design f...   \n2                                                 []   \n3  [Safely charge your phone from your car using ...   \n4  [Safely charge your phone from your car using ...   \n8                                                 []   \n\n                    main_cat   price  \n0  Cell Phones & Accessories          \n2  Cell Phones & Accessories   $5.95  \n3  Cell Phones & Accessories          \n4  Cell Phones & Accessories  $14.99  \n8  Cell Phones & Accessories          ",
      "text/html": "<div>\n<style scoped>\n    .dataframe tbody tr th:only-of-type {\n        vertical-align: middle;\n    }\n\n    .dataframe tbody tr th {\n        vertical-align: top;\n    }\n\n    .dataframe thead th {\n        text-align: right;\n    }\n</style>\n<table border=\"1\" class=\"dataframe\">\n  <thead>\n    <tr style=\"text-align: right;\">\n      <th></th>\n      <th>asin</th>\n      <th>description</th>\n      <th>title</th>\n      <th>feature</th>\n      <th>main_cat</th>\n      <th>price</th>\n    </tr>\n  </thead>\n  <tbody>\n    <tr>\n      <th>0</th>\n      <td>7508492919</td>\n      <td>[, Elegani Butterfly Case 3D Pattern Back Cove...</td>\n      <td>MinisDesign 3d Bling Crystal Bow Transparent C...</td>\n      <td>[Fashionable with unique 3D butterfly design f...</td>\n      <td>Cell Phones &amp; Accessories</td>\n      <td></td>\n    </tr>\n    <tr>\n      <th>2</th>\n      <td>7887421268</td>\n      <td>[Description:\\nProtect your phone with style t...</td>\n      <td>Black And Pink Leopard Rubberized Snap on Desi...</td>\n      <td>[]</td>\n      <td>Cell Phones &amp; Accessories</td>\n      <td>$5.95</td>\n    </tr>\n    <tr>\n      <th>3</th>\n      <td>8288853439</td>\n      <td>[Samsung Official OEM Travel Wall Charger for ...</td>\n      <td>Samsung Official OEM Travel Wall Charger for y...</td>\n      <td>[Safely charge your phone from your car using ...</td>\n      <td>Cell Phones &amp; Accessories</td>\n      <td></td>\n    </tr>\n    <tr>\n      <th>4</th>\n      <td>8288862993</td>\n      <td>[]</td>\n      <td>Samsung New Version ECA-U11CBE Official OEM Ca...</td>\n      <td>[Safely charge your phone from your car using ...</td>\n      <td>Cell Phones &amp; Accessories</td>\n      <td>$14.99</td>\n    </tr>\n    <tr>\n      <th>8</th>\n      <td>9578085451</td>\n      <td>[HTC Evo 4G LTE (Sprint) White Flowers Design ...</td>\n      <td>HTC Evo 4G LTE (Sprint) White Flowers Design S...</td>\n      <td>[]</td>\n      <td>Cell Phones &amp; Accessories</td>\n      <td></td>\n    </tr>\n  </tbody>\n</table>\n</div>"
     },
     "execution_count": 11,
     "metadata": {},
     "output_type": "execute_result"
    }
   ],
   "source": [
    "Items_DF = Items_DF[cols]\n",
    "print(Items_DF.shape)\n",
    "Items_DF.head()"
   ],
   "metadata": {
    "collapsed": false,
    "pycharm": {
     "name": "#%%\n"
    }
   }
  },
  {
   "cell_type": "markdown",
   "source": [
    "### 2.1 main_cat"
   ],
   "metadata": {
    "collapsed": false
   }
  },
  {
   "cell_type": "code",
   "execution_count": 12,
   "outputs": [
    {
     "name": "stdout",
     "output_type": "stream",
     "text": [
      "There are 29 main categories.\n"
     ]
    }
   ],
   "source": [
    "print(f'There are {len(Items_DF.main_cat.unique())} main categories.')"
   ],
   "metadata": {
    "collapsed": false,
    "pycharm": {
     "name": "#%%\n"
    }
   }
  },
  {
   "cell_type": "markdown",
   "source": [
    "### 2.2 description"
   ],
   "metadata": {
    "collapsed": false
   }
  },
  {
   "cell_type": "code",
   "execution_count": 13,
   "outputs": [
    {
     "data": {
      "text/plain": "         asin                                        description  \\\n0  7508492919  Elegani Butterfly Case 3D Pattern Back Cover C...   \n2  7887421268  Description:\\nProtect your phone with style th...   \n3  8288853439  Samsung Official OEM Travel Wall Charger for y...   \n4  8288862993                                                      \n8  9578085451  HTC Evo 4G LTE (Sprint) White Flowers Design S...   \n\n                                               title  \\\n0  MinisDesign 3d Bling Crystal Bow Transparent C...   \n2  Black And Pink Leopard Rubberized Snap on Desi...   \n3  Samsung Official OEM Travel Wall Charger for y...   \n4  Samsung New Version ECA-U11CBE Official OEM Ca...   \n8  HTC Evo 4G LTE (Sprint) White Flowers Design S...   \n\n                                             feature  \\\n0  [Fashionable with unique 3D butterfly design f...   \n2                                                 []   \n3  [Safely charge your phone from your car using ...   \n4  [Safely charge your phone from your car using ...   \n8                                                 []   \n\n                    main_cat   price  \n0  Cell Phones & Accessories          \n2  Cell Phones & Accessories   $5.95  \n3  Cell Phones & Accessories          \n4  Cell Phones & Accessories  $14.99  \n8  Cell Phones & Accessories          ",
      "text/html": "<div>\n<style scoped>\n    .dataframe tbody tr th:only-of-type {\n        vertical-align: middle;\n    }\n\n    .dataframe tbody tr th {\n        vertical-align: top;\n    }\n\n    .dataframe thead th {\n        text-align: right;\n    }\n</style>\n<table border=\"1\" class=\"dataframe\">\n  <thead>\n    <tr style=\"text-align: right;\">\n      <th></th>\n      <th>asin</th>\n      <th>description</th>\n      <th>title</th>\n      <th>feature</th>\n      <th>main_cat</th>\n      <th>price</th>\n    </tr>\n  </thead>\n  <tbody>\n    <tr>\n      <th>0</th>\n      <td>7508492919</td>\n      <td>Elegani Butterfly Case 3D Pattern Back Cover C...</td>\n      <td>MinisDesign 3d Bling Crystal Bow Transparent C...</td>\n      <td>[Fashionable with unique 3D butterfly design f...</td>\n      <td>Cell Phones &amp; Accessories</td>\n      <td></td>\n    </tr>\n    <tr>\n      <th>2</th>\n      <td>7887421268</td>\n      <td>Description:\\nProtect your phone with style th...</td>\n      <td>Black And Pink Leopard Rubberized Snap on Desi...</td>\n      <td>[]</td>\n      <td>Cell Phones &amp; Accessories</td>\n      <td>$5.95</td>\n    </tr>\n    <tr>\n      <th>3</th>\n      <td>8288853439</td>\n      <td>Samsung Official OEM Travel Wall Charger for y...</td>\n      <td>Samsung Official OEM Travel Wall Charger for y...</td>\n      <td>[Safely charge your phone from your car using ...</td>\n      <td>Cell Phones &amp; Accessories</td>\n      <td></td>\n    </tr>\n    <tr>\n      <th>4</th>\n      <td>8288862993</td>\n      <td></td>\n      <td>Samsung New Version ECA-U11CBE Official OEM Ca...</td>\n      <td>[Safely charge your phone from your car using ...</td>\n      <td>Cell Phones &amp; Accessories</td>\n      <td>$14.99</td>\n    </tr>\n    <tr>\n      <th>8</th>\n      <td>9578085451</td>\n      <td>HTC Evo 4G LTE (Sprint) White Flowers Design S...</td>\n      <td>HTC Evo 4G LTE (Sprint) White Flowers Design S...</td>\n      <td>[]</td>\n      <td>Cell Phones &amp; Accessories</td>\n      <td></td>\n    </tr>\n  </tbody>\n</table>\n</div>"
     },
     "execution_count": 13,
     "metadata": {},
     "output_type": "execute_result"
    }
   ],
   "source": [
    "d_new = []\n",
    "for d in Items_DF['description']:\n",
    "    for i in range(len(d)-1, -1, -1):\n",
    "        d.remove('') if d[i] == '' else 0\n",
    "    d_new.append(d)\n",
    "descriptions = [' '.join(d) for d in d_new]\n",
    "Items_DF['description'] = descriptions\n",
    "Items_DF.head()"
   ],
   "metadata": {
    "collapsed": false,
    "pycharm": {
     "name": "#%%\n"
    }
   }
  },
  {
   "cell_type": "markdown",
   "source": [
    "### 2.3 title\n",
    "All items have a title."
   ],
   "metadata": {
    "collapsed": false
   }
  },
  {
   "cell_type": "code",
   "execution_count": 14,
   "outputs": [
    {
     "name": "stdout",
     "output_type": "stream",
     "text": [
      "There are 42726 items with title.\n"
     ]
    }
   ],
   "source": [
    "num = sum([t == '' for t in Items_DF.title])\n",
    "print(f'There are {len(Items_DF) - num} items with title.')"
   ],
   "metadata": {
    "collapsed": false,
    "pycharm": {
     "name": "#%%\n"
    }
   }
  },
  {
   "cell_type": "markdown",
   "source": [
    "### 2.4 feature"
   ],
   "metadata": {
    "collapsed": false
   }
  },
  {
   "cell_type": "code",
   "execution_count": 15,
   "outputs": [
    {
     "name": "stdout",
     "output_type": "stream",
     "text": [
      "There are 35989 items with feature.\n"
     ]
    },
    {
     "data": {
      "text/plain": "         asin                                        description  \\\n0  7508492919  Elegani Butterfly Case 3D Pattern Back Cover C...   \n2  7887421268  Description:\\nProtect your phone with style th...   \n3  8288853439  Samsung Official OEM Travel Wall Charger for y...   \n4  8288862993                                                      \n8  9578085451  HTC Evo 4G LTE (Sprint) White Flowers Design S...   \n\n                                               title  \\\n0  MinisDesign 3d Bling Crystal Bow Transparent C...   \n2  Black And Pink Leopard Rubberized Snap on Desi...   \n3  Samsung Official OEM Travel Wall Charger for y...   \n4  Samsung New Version ECA-U11CBE Official OEM Ca...   \n8  HTC Evo 4G LTE (Sprint) White Flowers Design S...   \n\n                                             feature  \\\n0  Fashionable with unique 3D butterfly design fo...   \n2                                                      \n3  Safely charge your phone from your car using t...   \n4  Safely charge your phone from your car using t...   \n8                                                      \n\n                    main_cat   price  \n0  Cell Phones & Accessories          \n2  Cell Phones & Accessories   $5.95  \n3  Cell Phones & Accessories          \n4  Cell Phones & Accessories  $14.99  \n8  Cell Phones & Accessories          ",
      "text/html": "<div>\n<style scoped>\n    .dataframe tbody tr th:only-of-type {\n        vertical-align: middle;\n    }\n\n    .dataframe tbody tr th {\n        vertical-align: top;\n    }\n\n    .dataframe thead th {\n        text-align: right;\n    }\n</style>\n<table border=\"1\" class=\"dataframe\">\n  <thead>\n    <tr style=\"text-align: right;\">\n      <th></th>\n      <th>asin</th>\n      <th>description</th>\n      <th>title</th>\n      <th>feature</th>\n      <th>main_cat</th>\n      <th>price</th>\n    </tr>\n  </thead>\n  <tbody>\n    <tr>\n      <th>0</th>\n      <td>7508492919</td>\n      <td>Elegani Butterfly Case 3D Pattern Back Cover C...</td>\n      <td>MinisDesign 3d Bling Crystal Bow Transparent C...</td>\n      <td>Fashionable with unique 3D butterfly design fo...</td>\n      <td>Cell Phones &amp; Accessories</td>\n      <td></td>\n    </tr>\n    <tr>\n      <th>2</th>\n      <td>7887421268</td>\n      <td>Description:\\nProtect your phone with style th...</td>\n      <td>Black And Pink Leopard Rubberized Snap on Desi...</td>\n      <td></td>\n      <td>Cell Phones &amp; Accessories</td>\n      <td>$5.95</td>\n    </tr>\n    <tr>\n      <th>3</th>\n      <td>8288853439</td>\n      <td>Samsung Official OEM Travel Wall Charger for y...</td>\n      <td>Samsung Official OEM Travel Wall Charger for y...</td>\n      <td>Safely charge your phone from your car using t...</td>\n      <td>Cell Phones &amp; Accessories</td>\n      <td></td>\n    </tr>\n    <tr>\n      <th>4</th>\n      <td>8288862993</td>\n      <td></td>\n      <td>Samsung New Version ECA-U11CBE Official OEM Ca...</td>\n      <td>Safely charge your phone from your car using t...</td>\n      <td>Cell Phones &amp; Accessories</td>\n      <td>$14.99</td>\n    </tr>\n    <tr>\n      <th>8</th>\n      <td>9578085451</td>\n      <td>HTC Evo 4G LTE (Sprint) White Flowers Design S...</td>\n      <td>HTC Evo 4G LTE (Sprint) White Flowers Design S...</td>\n      <td></td>\n      <td>Cell Phones &amp; Accessories</td>\n      <td></td>\n    </tr>\n  </tbody>\n</table>\n</div>"
     },
     "execution_count": 15,
     "metadata": {},
     "output_type": "execute_result"
    }
   ],
   "source": [
    "num = sum([t == [] for t in Items_DF.feature])\n",
    "print(f'There are {len(Items_DF) - num} items with feature.')\n",
    "feature_list = [' '.join(f) for f in Items_DF.feature]\n",
    "Items_DF['feature'] = feature_list\n",
    "Items_DF.head()"
   ],
   "metadata": {
    "collapsed": false,
    "pycharm": {
     "name": "#%%\n"
    }
   }
  },
  {
   "cell_type": "markdown",
   "source": [
    "### 2.5 price"
   ],
   "metadata": {
    "collapsed": false
   }
  },
  {
   "cell_type": "code",
   "execution_count": 16,
   "outputs": [
    {
     "name": "stdout",
     "output_type": "stream",
     "text": [
      "There are 17210 items with price.\n"
     ]
    }
   ],
   "source": [
    "num = sum([p == '' for p in Items_DF.price])\n",
    "print(f'There are {len(Items_DF) - num} items with price.')"
   ],
   "metadata": {
    "collapsed": false,
    "pycharm": {
     "name": "#%%\n"
    }
   }
  },
  {
   "cell_type": "code",
   "execution_count": 17,
   "outputs": [
    {
     "data": {
      "text/plain": "         asin                                        description  \\\n0  7508492919  Elegani Butterfly Case 3D Pattern Back Cover C...   \n2  7887421268  Description:\\nProtect your phone with style th...   \n3  8288853439  Samsung Official OEM Travel Wall Charger for y...   \n4  8288862993                                                      \n8  9578085451  HTC Evo 4G LTE (Sprint) White Flowers Design S...   \n\n                                               title  \\\n0  MinisDesign 3d Bling Crystal Bow Transparent C...   \n2  Black And Pink Leopard Rubberized Snap on Desi...   \n3  Samsung Official OEM Travel Wall Charger for y...   \n4  Samsung New Version ECA-U11CBE Official OEM Ca...   \n8  HTC Evo 4G LTE (Sprint) White Flowers Design S...   \n\n                                             feature  \\\n0  Fashionable with unique 3D butterfly design fo...   \n2                                                      \n3  Safely charge your phone from your car using t...   \n4  Safely charge your phone from your car using t...   \n8                                                      \n\n                    main_cat  price  \n0  Cell Phones & Accessories      0  \n2  Cell Phones & Accessories      1  \n3  Cell Phones & Accessories      0  \n4  Cell Phones & Accessories      1  \n8  Cell Phones & Accessories      0  ",
      "text/html": "<div>\n<style scoped>\n    .dataframe tbody tr th:only-of-type {\n        vertical-align: middle;\n    }\n\n    .dataframe tbody tr th {\n        vertical-align: top;\n    }\n\n    .dataframe thead th {\n        text-align: right;\n    }\n</style>\n<table border=\"1\" class=\"dataframe\">\n  <thead>\n    <tr style=\"text-align: right;\">\n      <th></th>\n      <th>asin</th>\n      <th>description</th>\n      <th>title</th>\n      <th>feature</th>\n      <th>main_cat</th>\n      <th>price</th>\n    </tr>\n  </thead>\n  <tbody>\n    <tr>\n      <th>0</th>\n      <td>7508492919</td>\n      <td>Elegani Butterfly Case 3D Pattern Back Cover C...</td>\n      <td>MinisDesign 3d Bling Crystal Bow Transparent C...</td>\n      <td>Fashionable with unique 3D butterfly design fo...</td>\n      <td>Cell Phones &amp; Accessories</td>\n      <td>0</td>\n    </tr>\n    <tr>\n      <th>2</th>\n      <td>7887421268</td>\n      <td>Description:\\nProtect your phone with style th...</td>\n      <td>Black And Pink Leopard Rubberized Snap on Desi...</td>\n      <td></td>\n      <td>Cell Phones &amp; Accessories</td>\n      <td>1</td>\n    </tr>\n    <tr>\n      <th>3</th>\n      <td>8288853439</td>\n      <td>Samsung Official OEM Travel Wall Charger for y...</td>\n      <td>Samsung Official OEM Travel Wall Charger for y...</td>\n      <td>Safely charge your phone from your car using t...</td>\n      <td>Cell Phones &amp; Accessories</td>\n      <td>0</td>\n    </tr>\n    <tr>\n      <th>4</th>\n      <td>8288862993</td>\n      <td></td>\n      <td>Samsung New Version ECA-U11CBE Official OEM Ca...</td>\n      <td>Safely charge your phone from your car using t...</td>\n      <td>Cell Phones &amp; Accessories</td>\n      <td>1</td>\n    </tr>\n    <tr>\n      <th>8</th>\n      <td>9578085451</td>\n      <td>HTC Evo 4G LTE (Sprint) White Flowers Design S...</td>\n      <td>HTC Evo 4G LTE (Sprint) White Flowers Design S...</td>\n      <td></td>\n      <td>Cell Phones &amp; Accessories</td>\n      <td>0</td>\n    </tr>\n  </tbody>\n</table>\n</div>"
     },
     "execution_count": 17,
     "metadata": {},
     "output_type": "execute_result"
    }
   ],
   "source": [
    "have_price = [0 if price == '' else 1 for price in Items_DF.price]\n",
    "Items_DF['price'] = have_price\n",
    "Items_DF.head()"
   ],
   "metadata": {
    "collapsed": false,
    "pycharm": {
     "name": "#%%\n"
    }
   }
  },
  {
   "cell_type": "markdown",
   "source": [],
   "metadata": {
    "collapsed": false
   }
  },
  {
   "cell_type": "code",
   "execution_count": 18,
   "outputs": [
    {
     "data": {
      "text/plain": "          img_col        asin  \\\n0  7508492919.jpg  7508492919   \n2  7887421268.jpg  7887421268   \n3  8288853439.jpg  8288853439   \n4  8288862993.jpg  8288862993   \n8  9578085451.jpg  9578085451   \n\n                                         description  \\\n0  Elegani Butterfly Case 3D Pattern Back Cover C...   \n2  Description:\\nProtect your phone with style th...   \n3  Samsung Official OEM Travel Wall Charger for y...   \n4                                                      \n8  HTC Evo 4G LTE (Sprint) White Flowers Design S...   \n\n                                               title  \\\n0  MinisDesign 3d Bling Crystal Bow Transparent C...   \n2  Black And Pink Leopard Rubberized Snap on Desi...   \n3  Samsung Official OEM Travel Wall Charger for y...   \n4  Samsung New Version ECA-U11CBE Official OEM Ca...   \n8  HTC Evo 4G LTE (Sprint) White Flowers Design S...   \n\n                                             feature  \\\n0  Fashionable with unique 3D butterfly design fo...   \n2                                                      \n3  Safely charge your phone from your car using t...   \n4  Safely charge your phone from your car using t...   \n8                                                      \n\n                    main_cat  price  \n0  Cell Phones & Accessories      0  \n2  Cell Phones & Accessories      1  \n3  Cell Phones & Accessories      0  \n4  Cell Phones & Accessories      1  \n8  Cell Phones & Accessories      0  ",
      "text/html": "<div>\n<style scoped>\n    .dataframe tbody tr th:only-of-type {\n        vertical-align: middle;\n    }\n\n    .dataframe tbody tr th {\n        vertical-align: top;\n    }\n\n    .dataframe thead th {\n        text-align: right;\n    }\n</style>\n<table border=\"1\" class=\"dataframe\">\n  <thead>\n    <tr style=\"text-align: right;\">\n      <th></th>\n      <th>img_col</th>\n      <th>asin</th>\n      <th>description</th>\n      <th>title</th>\n      <th>feature</th>\n      <th>main_cat</th>\n      <th>price</th>\n    </tr>\n  </thead>\n  <tbody>\n    <tr>\n      <th>0</th>\n      <td>7508492919.jpg</td>\n      <td>7508492919</td>\n      <td>Elegani Butterfly Case 3D Pattern Back Cover C...</td>\n      <td>MinisDesign 3d Bling Crystal Bow Transparent C...</td>\n      <td>Fashionable with unique 3D butterfly design fo...</td>\n      <td>Cell Phones &amp; Accessories</td>\n      <td>0</td>\n    </tr>\n    <tr>\n      <th>2</th>\n      <td>7887421268.jpg</td>\n      <td>7887421268</td>\n      <td>Description:\\nProtect your phone with style th...</td>\n      <td>Black And Pink Leopard Rubberized Snap on Desi...</td>\n      <td></td>\n      <td>Cell Phones &amp; Accessories</td>\n      <td>1</td>\n    </tr>\n    <tr>\n      <th>3</th>\n      <td>8288853439.jpg</td>\n      <td>8288853439</td>\n      <td>Samsung Official OEM Travel Wall Charger for y...</td>\n      <td>Samsung Official OEM Travel Wall Charger for y...</td>\n      <td>Safely charge your phone from your car using t...</td>\n      <td>Cell Phones &amp; Accessories</td>\n      <td>0</td>\n    </tr>\n    <tr>\n      <th>4</th>\n      <td>8288862993.jpg</td>\n      <td>8288862993</td>\n      <td></td>\n      <td>Samsung New Version ECA-U11CBE Official OEM Ca...</td>\n      <td>Safely charge your phone from your car using t...</td>\n      <td>Cell Phones &amp; Accessories</td>\n      <td>1</td>\n    </tr>\n    <tr>\n      <th>8</th>\n      <td>9578085451.jpg</td>\n      <td>9578085451</td>\n      <td>HTC Evo 4G LTE (Sprint) White Flowers Design S...</td>\n      <td>HTC Evo 4G LTE (Sprint) White Flowers Design S...</td>\n      <td></td>\n      <td>Cell Phones &amp; Accessories</td>\n      <td>0</td>\n    </tr>\n  </tbody>\n</table>\n</div>"
     },
     "execution_count": 18,
     "metadata": {},
     "output_type": "execute_result"
    }
   ],
   "source": [
    "img_col = [asin + '.jpg' for asin in Items_DF.asin]\n",
    "cols = list(Items_DF)\n",
    "Items_DF['img_col'] = img_col\n",
    "cols.insert(0, 'img_col')\n",
    "Items_DF = Items_DF[cols]\n",
    "Items_DF.head()"
   ],
   "metadata": {
    "collapsed": false,
    "pycharm": {
     "name": "#%%\n"
    }
   }
  },
  {
   "cell_type": "code",
   "execution_count": 29,
   "outputs": [
    {
     "data": {
      "text/plain": "<Figure size 432x288 with 1 Axes>",
      "image/png": "[encoded data removed]"
     },
     "metadata": {
      "needs_background": "light"
     },
     "output_type": "display_data"
    }
   ],
   "source": [
    "import os\n",
    "import cv2\n",
    "import matplotlib.pyplot as plt\n",
    "image = cv2.imread(os.path.join('./project/data/Images for use', Items_DF.img_col[0]))\n",
    "_ = plt.imshow(image)"
   ],
   "metadata": {
    "collapsed": false,
    "pycharm": {
     "name": "#%%\n"
    }
   }
  },
  {
   "cell_type": "markdown",
   "source": [
    "## 3. Reviewer Information\n",
    "In the original data, there is no specific dataset about users, while user information is also significant for a RecSys. Note that there exist records of users in the review data, therefore we extract some user information from it, including average score, average sentiment, total amount of reviews and weighted score.\n",
    "- average score: average value of all ratings from the user\n",
    "- average sentiment: average value of all sentiments of the reviews from the user\n",
    "- total amount of reviews: total amount of reviews from the user\n",
    "- weighted score: average value of all ratings from the user, weighted by votes of reviews\n",
    "\n",
    "We use these extracted features as user characteristics."
   ],
   "metadata": {
    "collapsed": false
   }
  },
  {
   "cell_type": "code",
   "execution_count": 20,
   "outputs": [
    {
     "name": "stdout",
     "output_type": "stream",
     "text": [
      "There are 157195 users.\n",
      "(157195, 5)\n"
     ]
    },
    {
     "data": {
      "text/plain": "             reviewerID  avg_score_u  avg_sentiment_u  tot_review_u  \\\n0  A0009478CBXKUCALUC7U     4.333333         0.666667             6   \n1  A0024936S1WI02OHH9DP     5.000000         1.000000             5   \n2  A0034986DWR7WEDQN0GV     4.818182         0.909091            11   \n3  A0052224HSIECFUBVN5W     5.000000         0.800000             5   \n4  A007917716EGEEP4D8LB     4.181818         0.363636            11   \n\n   weighted_score_u  \n0          4.333333  \n1          5.000000  \n2          4.818182  \n3          5.000000  \n4          5.000000  ",
      "text/html": "<div>\n<style scoped>\n    .dataframe tbody tr th:only-of-type {\n        vertical-align: middle;\n    }\n\n    .dataframe tbody tr th {\n        vertical-align: top;\n    }\n\n    .dataframe thead th {\n        text-align: right;\n    }\n</style>\n<table border=\"1\" class=\"dataframe\">\n  <thead>\n    <tr style=\"text-align: right;\">\n      <th></th>\n      <th>reviewerID</th>\n      <th>avg_score_u</th>\n      <th>avg_sentiment_u</th>\n      <th>tot_review_u</th>\n      <th>weighted_score_u</th>\n    </tr>\n  </thead>\n  <tbody>\n    <tr>\n      <th>0</th>\n      <td>A0009478CBXKUCALUC7U</td>\n      <td>4.333333</td>\n      <td>0.666667</td>\n      <td>6</td>\n      <td>4.333333</td>\n    </tr>\n    <tr>\n      <th>1</th>\n      <td>A0024936S1WI02OHH9DP</td>\n      <td>5.000000</td>\n      <td>1.000000</td>\n      <td>5</td>\n      <td>5.000000</td>\n    </tr>\n    <tr>\n      <th>2</th>\n      <td>A0034986DWR7WEDQN0GV</td>\n      <td>4.818182</td>\n      <td>0.909091</td>\n      <td>11</td>\n      <td>4.818182</td>\n    </tr>\n    <tr>\n      <th>3</th>\n      <td>A0052224HSIECFUBVN5W</td>\n      <td>5.000000</td>\n      <td>0.800000</td>\n      <td>5</td>\n      <td>5.000000</td>\n    </tr>\n    <tr>\n      <th>4</th>\n      <td>A007917716EGEEP4D8LB</td>\n      <td>4.181818</td>\n      <td>0.363636</td>\n      <td>11</td>\n      <td>5.000000</td>\n    </tr>\n  </tbody>\n</table>\n</div>"
     },
     "execution_count": 20,
     "metadata": {},
     "output_type": "execute_result"
    }
   ],
   "source": [
    "print(f'There are {len(info)} users.')\n",
    "print(info.shape)\n",
    "info.head()"
   ],
   "metadata": {
    "collapsed": false,
    "pycharm": {
     "name": "#%%\n"
    }
   }
  },
  {
   "cell_type": "code",
   "execution_count": 21,
   "outputs": [
    {
     "data": {
      "text/plain": "             reviewerID  avg_score_u  avg_sentiment_u  tot_review_u  \\\n0  A0009478CBXKUCALUC7U     4.333333         0.666667             6   \n1  A0024936S1WI02OHH9DP     5.000000         1.000000             5   \n2  A0034986DWR7WEDQN0GV     4.818182         0.909091            11   \n3  A0052224HSIECFUBVN5W     5.000000         0.800000             5   \n4  A007917716EGEEP4D8LB     4.181818         0.363636            11   \n\n   weighted_score_u  tot_review_u>10  \n0          4.333333                0  \n1          5.000000                0  \n2          4.818182                1  \n3          5.000000                0  \n4          5.000000                1  ",
      "text/html": "<div>\n<style scoped>\n    .dataframe tbody tr th:only-of-type {\n        vertical-align: middle;\n    }\n\n    .dataframe tbody tr th {\n        vertical-align: top;\n    }\n\n    .dataframe thead th {\n        text-align: right;\n    }\n</style>\n<table border=\"1\" class=\"dataframe\">\n  <thead>\n    <tr style=\"text-align: right;\">\n      <th></th>\n      <th>reviewerID</th>\n      <th>avg_score_u</th>\n      <th>avg_sentiment_u</th>\n      <th>tot_review_u</th>\n      <th>weighted_score_u</th>\n      <th>tot_review_u&gt;10</th>\n    </tr>\n  </thead>\n  <tbody>\n    <tr>\n      <th>0</th>\n      <td>A0009478CBXKUCALUC7U</td>\n      <td>4.333333</td>\n      <td>0.666667</td>\n      <td>6</td>\n      <td>4.333333</td>\n      <td>0</td>\n    </tr>\n    <tr>\n      <th>1</th>\n      <td>A0024936S1WI02OHH9DP</td>\n      <td>5.000000</td>\n      <td>1.000000</td>\n      <td>5</td>\n      <td>5.000000</td>\n      <td>0</td>\n    </tr>\n    <tr>\n      <th>2</th>\n      <td>A0034986DWR7WEDQN0GV</td>\n      <td>4.818182</td>\n      <td>0.909091</td>\n      <td>11</td>\n      <td>4.818182</td>\n      <td>1</td>\n    </tr>\n    <tr>\n      <th>3</th>\n      <td>A0052224HSIECFUBVN5W</td>\n      <td>5.000000</td>\n      <td>0.800000</td>\n      <td>5</td>\n      <td>5.000000</td>\n      <td>0</td>\n    </tr>\n    <tr>\n      <th>4</th>\n      <td>A007917716EGEEP4D8LB</td>\n      <td>4.181818</td>\n      <td>0.363636</td>\n      <td>11</td>\n      <td>5.000000</td>\n      <td>1</td>\n    </tr>\n  </tbody>\n</table>\n</div>"
     },
     "execution_count": 21,
     "metadata": {},
     "output_type": "execute_result"
    }
   ],
   "source": [
    "info['tot_review_u>10'] = [1 if t > 10 else 0 for  t in info.tot_review_u]\n",
    "info.head()"
   ],
   "metadata": {
    "collapsed": false,
    "pycharm": {
     "name": "#%%\n"
    }
   }
  },
  {
   "cell_type": "markdown",
   "source": [
    "## 4. Sentiment\n",
    "Similar to reviewer information, beyond the above features, we extract additional item information from the review dataset, including average score, average sentiment, total amount of reviews and weighted score.\n",
    "- average score: average value of all ratings of the item\n",
    "- average sentiment: average value of all sentiments of the reviews of the item\n",
    "- total amount of reviews: total amount of reviews item\n",
    "- weighted score: average value of all ratings of the item, weighted by votes of reviews"
   ],
   "metadata": {
    "collapsed": false
   }
  },
  {
   "cell_type": "code",
   "execution_count": 22,
   "outputs": [
    {
     "name": "stdout",
     "output_type": "stream",
     "text": [
      "(48186, 5)\n"
     ]
    },
    {
     "data": {
      "text/plain": "         asin  avg_score  avg_sentiment  tot_review  weighted_score\n0  7508492919   4.136364       0.696970          66           5.000\n1  7532385086   3.357143       0.571429          14           1.000\n2  7887421268   3.375000       0.500000          16           3.375\n3  8199900164   4.000000       0.800000           5           4.000\n4  8288853439   3.894737       0.631579          19           5.000",
      "text/html": "<div>\n<style scoped>\n    .dataframe tbody tr th:only-of-type {\n        vertical-align: middle;\n    }\n\n    .dataframe tbody tr th {\n        vertical-align: top;\n    }\n\n    .dataframe thead th {\n        text-align: right;\n    }\n</style>\n<table border=\"1\" class=\"dataframe\">\n  <thead>\n    <tr style=\"text-align: right;\">\n      <th></th>\n      <th>asin</th>\n      <th>avg_score</th>\n      <th>avg_sentiment</th>\n      <th>tot_review</th>\n      <th>weighted_score</th>\n    </tr>\n  </thead>\n  <tbody>\n    <tr>\n      <th>0</th>\n      <td>7508492919</td>\n      <td>4.136364</td>\n      <td>0.696970</td>\n      <td>66</td>\n      <td>5.000</td>\n    </tr>\n    <tr>\n      <th>1</th>\n      <td>7532385086</td>\n      <td>3.357143</td>\n      <td>0.571429</td>\n      <td>14</td>\n      <td>1.000</td>\n    </tr>\n    <tr>\n      <th>2</th>\n      <td>7887421268</td>\n      <td>3.375000</td>\n      <td>0.500000</td>\n      <td>16</td>\n      <td>3.375</td>\n    </tr>\n    <tr>\n      <th>3</th>\n      <td>8199900164</td>\n      <td>4.000000</td>\n      <td>0.800000</td>\n      <td>5</td>\n      <td>4.000</td>\n    </tr>\n    <tr>\n      <th>4</th>\n      <td>8288853439</td>\n      <td>3.894737</td>\n      <td>0.631579</td>\n      <td>19</td>\n      <td>5.000</td>\n    </tr>\n  </tbody>\n</table>\n</div>"
     },
     "execution_count": 22,
     "metadata": {},
     "output_type": "execute_result"
    }
   ],
   "source": [
    "print(sentiment.shape)\n",
    "sentiment.head()"
   ],
   "metadata": {
    "collapsed": false,
    "pycharm": {
     "name": "#%%\n"
    }
   }
  },
  {
   "cell_type": "markdown",
   "source": [
    "## 4. Merge\n",
    "By merging the review dataset, item dataset and user dataset, we'll get a new dataset containing the joint information of reviews, items and users. The joint dataset contains about 1 million reviews with corresponding items' and users' features. And we'll use this dataset to establish the recommender system."
   ],
   "metadata": {
    "collapsed": false
   }
  },
  {
   "cell_type": "code",
   "execution_count": 23,
   "outputs": [
    {
     "name": "stdout",
     "output_type": "stream",
     "text": [
      "(42726, 11)\n"
     ]
    },
    {
     "data": {
      "text/plain": "              img_col        asin  \\\n42721  B01GUY86W8.jpg  B01GUY86W8   \n42722  B01H1RWZWA.jpg  B01H1RWZWA   \n42723  B01H72UJZ4.jpg  B01H72UJZ4   \n42724  B01H8AH2YG.jpg  B01H8AH2YG   \n42725  B01HE0RNYO.jpg  B01HE0RNYO   \n\n                                             description  \\\n42721  <b>ALCLAP S7 Curved Screen Protector of Clear ...   \n42722                                                      \n42723                                                      \n42724  <b>Nillkin Amazing H+ Pro Nanometer Anti-explo...   \n42725  <b>Compatible with Apple iPhone 6 Plus and iPh...   \n\n                                                   title  \\\n42721          ALCLAP Galaxy S7 Screen Protector (Clear)   \n42722  iPhone 6S Plus Case, akimoom [Knight Series] H...   \n42723  Oneplus 3 Screen Protector, E LV Tempered Glas...   \n42724  Moto G4 Plus Screen Protector, Nillkin [H+ Pro...   \n42725  TrendON Apple iPhone 6 Plus and 6S Plus Case [...   \n\n                                                 feature  \\\n42721  Perfectly curved to fit the S7 entire screen f...   \n42722                                                      \n42723                                                      \n42724  Designed for Moto G4 Plus, premium Japan AGC g...   \n42725  [Compatible with Apple iPhone 6 Plus and iPhon...   \n\n                        main_cat  price  avg_score  avg_sentiment  tot_review  \\\n42721  Cell Phones & Accessories      0   4.285714       0.714286           7   \n42722  Cell Phones & Accessories      0   4.400000       0.400000           5   \n42723  Cell Phones & Accessories      0   2.400000       0.000000           5   \n42724  Cell Phones & Accessories      0   4.000000       0.800000           5   \n42725  Cell Phones & Accessories      1   4.400000       1.000000           5   \n\n       weighted_score  \n42721        4.285714  \n42722        4.000000  \n42723        2.000000  \n42724        4.000000  \n42725        4.400000  ",
      "text/html": "<div>\n<style scoped>\n    .dataframe tbody tr th:only-of-type {\n        vertical-align: middle;\n    }\n\n    .dataframe tbody tr th {\n        vertical-align: top;\n    }\n\n    .dataframe thead th {\n        text-align: right;\n    }\n</style>\n<table border=\"1\" class=\"dataframe\">\n  <thead>\n    <tr style=\"text-align: right;\">\n      <th></th>\n      <th>img_col</th>\n      <th>asin</th>\n      <th>description</th>\n      <th>title</th>\n      <th>feature</th>\n      <th>main_cat</th>\n      <th>price</th>\n      <th>avg_score</th>\n      <th>avg_sentiment</th>\n      <th>tot_review</th>\n      <th>weighted_score</th>\n    </tr>\n  </thead>\n  <tbody>\n    <tr>\n      <th>42721</th>\n      <td>B01GUY86W8.jpg</td>\n      <td>B01GUY86W8</td>\n      <td>&lt;b&gt;ALCLAP S7 Curved Screen Protector of Clear ...</td>\n      <td>ALCLAP Galaxy S7 Screen Protector (Clear)</td>\n      <td>Perfectly curved to fit the S7 entire screen f...</td>\n      <td>Cell Phones &amp; Accessories</td>\n      <td>0</td>\n      <td>4.285714</td>\n      <td>0.714286</td>\n      <td>7</td>\n      <td>4.285714</td>\n    </tr>\n    <tr>\n      <th>42722</th>\n      <td>B01H1RWZWA.jpg</td>\n      <td>B01H1RWZWA</td>\n      <td></td>\n      <td>iPhone 6S Plus Case, akimoom [Knight Series] H...</td>\n      <td></td>\n      <td>Cell Phones &amp; Accessories</td>\n      <td>0</td>\n      <td>4.400000</td>\n      <td>0.400000</td>\n      <td>5</td>\n      <td>4.000000</td>\n    </tr>\n    <tr>\n      <th>42723</th>\n      <td>B01H72UJZ4.jpg</td>\n      <td>B01H72UJZ4</td>\n      <td></td>\n      <td>Oneplus 3 Screen Protector, E LV Tempered Glas...</td>\n      <td></td>\n      <td>Cell Phones &amp; Accessories</td>\n      <td>0</td>\n      <td>2.400000</td>\n      <td>0.000000</td>\n      <td>5</td>\n      <td>2.000000</td>\n    </tr>\n    <tr>\n      <th>42724</th>\n      <td>B01H8AH2YG.jpg</td>\n      <td>B01H8AH2YG</td>\n      <td>&lt;b&gt;Nillkin Amazing H+ Pro Nanometer Anti-explo...</td>\n      <td>Moto G4 Plus Screen Protector, Nillkin [H+ Pro...</td>\n      <td>Designed for Moto G4 Plus, premium Japan AGC g...</td>\n      <td>Cell Phones &amp; Accessories</td>\n      <td>0</td>\n      <td>4.000000</td>\n      <td>0.800000</td>\n      <td>5</td>\n      <td>4.000000</td>\n    </tr>\n    <tr>\n      <th>42725</th>\n      <td>B01HE0RNYO.jpg</td>\n      <td>B01HE0RNYO</td>\n      <td>&lt;b&gt;Compatible with Apple iPhone 6 Plus and iPh...</td>\n      <td>TrendON Apple iPhone 6 Plus and 6S Plus Case [...</td>\n      <td>[Compatible with Apple iPhone 6 Plus and iPhon...</td>\n      <td>Cell Phones &amp; Accessories</td>\n      <td>1</td>\n      <td>4.400000</td>\n      <td>1.000000</td>\n      <td>5</td>\n      <td>4.400000</td>\n    </tr>\n  </tbody>\n</table>\n</div>"
     },
     "execution_count": 23,
     "metadata": {},
     "output_type": "execute_result"
    }
   ],
   "source": [
    "Items_DF = pd.merge(Items_DF, sentiment, on='asin', how='inner')\n",
    "print(Items_DF.shape)\n",
    "Items_DF.tail()"
   ],
   "metadata": {
    "collapsed": false,
    "pycharm": {
     "name": "#%%\n"
    }
   }
  },
  {
   "cell_type": "code",
   "execution_count": 24,
   "outputs": [
    {
     "name": "stdout",
     "output_type": "stream",
     "text": [
      "(1128308, 11)\n"
     ]
    },
    {
     "data": {
      "text/plain": "         asin      reviewerID  overall  verified  \\\n0  7508492919  A24E3SXTC62LJI      5.0         1   \n1  B00931S8CE  A24E3SXTC62LJI      4.0         1   \n2  B009PUZ5H4  A24E3SXTC62LJI      5.0         1   \n3  B00AQG3UGY  A24E3SXTC62LJI      3.0         1   \n4  B00PQPW6UQ  A24E3SXTC62LJI      5.0         1   \n\n                                          reviewText  \\\n0  Looks even better in person. Be careful to not...   \n1  Perfect for charging overnight or when I'm on ...   \n2  Came in way earlier than expected which is alw...   \n3  Very cute and phone fits perfectly without a p...   \n4  I bought this case for my sixteen year old bro...   \n\n                               summary  avg_score_u  avg_sentiment_u  \\\n0  Can't stop won't stop looking at it          4.4              0.6   \n1                      Worth the price          4.4              0.6   \n2          Way better than I expected!          4.4              0.6   \n3              Good for occasional use          4.4              0.6   \n4                       Great quality!          4.4              0.6   \n\n   tot_review_u  weighted_score_u  tot_review_u>10  \n0             5               4.4                0  \n1             5               4.4                0  \n2             5               4.4                0  \n3             5               4.4                0  \n4             5               4.4                0  ",
      "text/html": "<div>\n<style scoped>\n    .dataframe tbody tr th:only-of-type {\n        vertical-align: middle;\n    }\n\n    .dataframe tbody tr th {\n        vertical-align: top;\n    }\n\n    .dataframe thead th {\n        text-align: right;\n    }\n</style>\n<table border=\"1\" class=\"dataframe\">\n  <thead>\n    <tr style=\"text-align: right;\">\n      <th></th>\n      <th>asin</th>\n      <th>reviewerID</th>\n      <th>overall</th>\n      <th>verified</th>\n      <th>reviewText</th>\n      <th>summary</th>\n      <th>avg_score_u</th>\n      <th>avg_sentiment_u</th>\n      <th>tot_review_u</th>\n      <th>weighted_score_u</th>\n      <th>tot_review_u&gt;10</th>\n    </tr>\n  </thead>\n  <tbody>\n    <tr>\n      <th>0</th>\n      <td>7508492919</td>\n      <td>A24E3SXTC62LJI</td>\n      <td>5.0</td>\n      <td>1</td>\n      <td>Looks even better in person. Be careful to not...</td>\n      <td>Can't stop won't stop looking at it</td>\n      <td>4.4</td>\n      <td>0.6</td>\n      <td>5</td>\n      <td>4.4</td>\n      <td>0</td>\n    </tr>\n    <tr>\n      <th>1</th>\n      <td>B00931S8CE</td>\n      <td>A24E3SXTC62LJI</td>\n      <td>4.0</td>\n      <td>1</td>\n      <td>Perfect for charging overnight or when I'm on ...</td>\n      <td>Worth the price</td>\n      <td>4.4</td>\n      <td>0.6</td>\n      <td>5</td>\n      <td>4.4</td>\n      <td>0</td>\n    </tr>\n    <tr>\n      <th>2</th>\n      <td>B009PUZ5H4</td>\n      <td>A24E3SXTC62LJI</td>\n      <td>5.0</td>\n      <td>1</td>\n      <td>Came in way earlier than expected which is alw...</td>\n      <td>Way better than I expected!</td>\n      <td>4.4</td>\n      <td>0.6</td>\n      <td>5</td>\n      <td>4.4</td>\n      <td>0</td>\n    </tr>\n    <tr>\n      <th>3</th>\n      <td>B00AQG3UGY</td>\n      <td>A24E3SXTC62LJI</td>\n      <td>3.0</td>\n      <td>1</td>\n      <td>Very cute and phone fits perfectly without a p...</td>\n      <td>Good for occasional use</td>\n      <td>4.4</td>\n      <td>0.6</td>\n      <td>5</td>\n      <td>4.4</td>\n      <td>0</td>\n    </tr>\n    <tr>\n      <th>4</th>\n      <td>B00PQPW6UQ</td>\n      <td>A24E3SXTC62LJI</td>\n      <td>5.0</td>\n      <td>1</td>\n      <td>I bought this case for my sixteen year old bro...</td>\n      <td>Great quality!</td>\n      <td>4.4</td>\n      <td>0.6</td>\n      <td>5</td>\n      <td>4.4</td>\n      <td>0</td>\n    </tr>\n  </tbody>\n</table>\n</div>"
     },
     "execution_count": 24,
     "metadata": {},
     "output_type": "execute_result"
    }
   ],
   "source": [
    "Reviews_DF = pd.merge(Reviews_DF, info, on='reviewerID', how='inner')\n",
    "print(Reviews_DF.shape)\n",
    "Reviews_DF.head()"
   ],
   "metadata": {
    "collapsed": false,
    "pycharm": {
     "name": "#%%\n"
    }
   }
  },
  {
   "cell_type": "code",
   "execution_count": 25,
   "outputs": [
    {
     "name": "stdout",
     "output_type": "stream",
     "text": [
      "1021580\n"
     ]
    },
    {
     "data": {
      "text/plain": "         asin      reviewerID  overall  verified  \\\n0  7508492919  A24E3SXTC62LJI      5.0         1   \n1  7508492919  A269FLZCB4GIPV      5.0         1   \n2  7508492919   AB6CHQWHZW4TV      3.0         1   \n3  7508492919   A1M117A53LEI8      2.0         1   \n4  7508492919  A272DUT8M88ZS8      4.0         1   \n\n                                          reviewText  \\\n0  Looks even better in person. Be careful to not...   \n1  When you don't want to spend a whole lot of ca...   \n2  so the case came on time, i love the design. I...   \n3  DON'T CARE FOR IT.  GAVE IT AS A GIFT AND THEY...   \n4  I liked it because it was cute, but the studs ...   \n\n                               summary  avg_score_u  avg_sentiment_u  \\\n0  Can't stop won't stop looking at it     4.400000         0.600000   \n1                                    1     5.000000         1.000000   \n2                             Its okay     4.600000         0.600000   \n3                                 CASE     3.647059         0.588235   \n4                                Cute!     4.218750         0.718750   \n\n   tot_review_u  weighted_score_u  ...         img_col  \\\n0             5          4.400000  ...  7508492919.jpg   \n1             6          5.000000  ...  7508492919.jpg   \n2             5          4.600000  ...  7508492919.jpg   \n3            17          3.647059  ...  7508492919.jpg   \n4            32          4.000000  ...  7508492919.jpg   \n\n                                         description  \\\n0  Elegani Butterfly Case 3D Pattern Back Cover C...   \n1  Elegani Butterfly Case 3D Pattern Back Cover C...   \n2  Elegani Butterfly Case 3D Pattern Back Cover C...   \n3  Elegani Butterfly Case 3D Pattern Back Cover C...   \n4  Elegani Butterfly Case 3D Pattern Back Cover C...   \n\n                                               title  \\\n0  MinisDesign 3d Bling Crystal Bow Transparent C...   \n1  MinisDesign 3d Bling Crystal Bow Transparent C...   \n2  MinisDesign 3d Bling Crystal Bow Transparent C...   \n3  MinisDesign 3d Bling Crystal Bow Transparent C...   \n4  MinisDesign 3d Bling Crystal Bow Transparent C...   \n\n                                             feature  \\\n0  Fashionable with unique 3D butterfly design fo...   \n1  Fashionable with unique 3D butterfly design fo...   \n2  Fashionable with unique 3D butterfly design fo...   \n3  Fashionable with unique 3D butterfly design fo...   \n4  Fashionable with unique 3D butterfly design fo...   \n\n                    main_cat price  avg_score  avg_sentiment  tot_review  \\\n0  Cell Phones & Accessories     0   4.136364        0.69697          66   \n1  Cell Phones & Accessories     0   4.136364        0.69697          66   \n2  Cell Phones & Accessories     0   4.136364        0.69697          66   \n3  Cell Phones & Accessories     0   4.136364        0.69697          66   \n4  Cell Phones & Accessories     0   4.136364        0.69697          66   \n\n   weighted_score  \n0             5.0  \n1             5.0  \n2             5.0  \n3             5.0  \n4             5.0  \n\n[5 rows x 21 columns]",
      "text/html": "<div>\n<style scoped>\n    .dataframe tbody tr th:only-of-type {\n        vertical-align: middle;\n    }\n\n    .dataframe tbody tr th {\n        vertical-align: top;\n    }\n\n    .dataframe thead th {\n        text-align: right;\n    }\n</style>\n<table border=\"1\" class=\"dataframe\">\n  <thead>\n    <tr style=\"text-align: right;\">\n      <th></th>\n      <th>asin</th>\n      <th>reviewerID</th>\n      <th>overall</th>\n      <th>verified</th>\n      <th>reviewText</th>\n      <th>summary</th>\n      <th>avg_score_u</th>\n      <th>avg_sentiment_u</th>\n      <th>tot_review_u</th>\n      <th>weighted_score_u</th>\n      <th>...</th>\n      <th>img_col</th>\n      <th>description</th>\n      <th>title</th>\n      <th>feature</th>\n      <th>main_cat</th>\n      <th>price</th>\n      <th>avg_score</th>\n      <th>avg_sentiment</th>\n      <th>tot_review</th>\n      <th>weighted_score</th>\n    </tr>\n  </thead>\n  <tbody>\n    <tr>\n      <th>0</th>\n      <td>7508492919</td>\n      <td>A24E3SXTC62LJI</td>\n      <td>5.0</td>\n      <td>1</td>\n      <td>Looks even better in person. Be careful to not...</td>\n      <td>Can't stop won't stop looking at it</td>\n      <td>4.400000</td>\n      <td>0.600000</td>\n      <td>5</td>\n      <td>4.400000</td>\n      <td>...</td>\n      <td>7508492919.jpg</td>\n      <td>Elegani Butterfly Case 3D Pattern Back Cover C...</td>\n      <td>MinisDesign 3d Bling Crystal Bow Transparent C...</td>\n      <td>Fashionable with unique 3D butterfly design fo...</td>\n      <td>Cell Phones &amp; Accessories</td>\n      <td>0</td>\n      <td>4.136364</td>\n      <td>0.69697</td>\n      <td>66</td>\n      <td>5.0</td>\n    </tr>\n    <tr>\n      <th>1</th>\n      <td>7508492919</td>\n      <td>A269FLZCB4GIPV</td>\n      <td>5.0</td>\n      <td>1</td>\n      <td>When you don't want to spend a whole lot of ca...</td>\n      <td>1</td>\n      <td>5.000000</td>\n      <td>1.000000</td>\n      <td>6</td>\n      <td>5.000000</td>\n      <td>...</td>\n      <td>7508492919.jpg</td>\n      <td>Elegani Butterfly Case 3D Pattern Back Cover C...</td>\n      <td>MinisDesign 3d Bling Crystal Bow Transparent C...</td>\n      <td>Fashionable with unique 3D butterfly design fo...</td>\n      <td>Cell Phones &amp; Accessories</td>\n      <td>0</td>\n      <td>4.136364</td>\n      <td>0.69697</td>\n      <td>66</td>\n      <td>5.0</td>\n    </tr>\n    <tr>\n      <th>2</th>\n      <td>7508492919</td>\n      <td>AB6CHQWHZW4TV</td>\n      <td>3.0</td>\n      <td>1</td>\n      <td>so the case came on time, i love the design. I...</td>\n      <td>Its okay</td>\n      <td>4.600000</td>\n      <td>0.600000</td>\n      <td>5</td>\n      <td>4.600000</td>\n      <td>...</td>\n      <td>7508492919.jpg</td>\n      <td>Elegani Butterfly Case 3D Pattern Back Cover C...</td>\n      <td>MinisDesign 3d Bling Crystal Bow Transparent C...</td>\n      <td>Fashionable with unique 3D butterfly design fo...</td>\n      <td>Cell Phones &amp; Accessories</td>\n      <td>0</td>\n      <td>4.136364</td>\n      <td>0.69697</td>\n      <td>66</td>\n      <td>5.0</td>\n    </tr>\n    <tr>\n      <th>3</th>\n      <td>7508492919</td>\n      <td>A1M117A53LEI8</td>\n      <td>2.0</td>\n      <td>1</td>\n      <td>DON'T CARE FOR IT.  GAVE IT AS A GIFT AND THEY...</td>\n      <td>CASE</td>\n      <td>3.647059</td>\n      <td>0.588235</td>\n      <td>17</td>\n      <td>3.647059</td>\n      <td>...</td>\n      <td>7508492919.jpg</td>\n      <td>Elegani Butterfly Case 3D Pattern Back Cover C...</td>\n      <td>MinisDesign 3d Bling Crystal Bow Transparent C...</td>\n      <td>Fashionable with unique 3D butterfly design fo...</td>\n      <td>Cell Phones &amp; Accessories</td>\n      <td>0</td>\n      <td>4.136364</td>\n      <td>0.69697</td>\n      <td>66</td>\n      <td>5.0</td>\n    </tr>\n    <tr>\n      <th>4</th>\n      <td>7508492919</td>\n      <td>A272DUT8M88ZS8</td>\n      <td>4.0</td>\n      <td>1</td>\n      <td>I liked it because it was cute, but the studs ...</td>\n      <td>Cute!</td>\n      <td>4.218750</td>\n      <td>0.718750</td>\n      <td>32</td>\n      <td>4.000000</td>\n      <td>...</td>\n      <td>7508492919.jpg</td>\n      <td>Elegani Butterfly Case 3D Pattern Back Cover C...</td>\n      <td>MinisDesign 3d Bling Crystal Bow Transparent C...</td>\n      <td>Fashionable with unique 3D butterfly design fo...</td>\n      <td>Cell Phones &amp; Accessories</td>\n      <td>0</td>\n      <td>4.136364</td>\n      <td>0.69697</td>\n      <td>66</td>\n      <td>5.0</td>\n    </tr>\n  </tbody>\n</table>\n<p>5 rows × 21 columns</p>\n</div>"
     },
     "execution_count": 25,
     "metadata": {},
     "output_type": "execute_result"
    }
   ],
   "source": [
    "RatingswUI = pd.merge(Reviews_DF, Items_DF, on='asin', how='inner')\n",
    "print(len(RatingswUI))\n",
    "RatingswUI.head()"
   ],
   "metadata": {
    "collapsed": false,
    "pycharm": {
     "name": "#%%\n"
    }
   }
  },
  {
   "cell_type": "markdown",
   "source": [
    "## Save"
   ],
   "metadata": {
    "collapsed": false
   }
  },
  {
   "cell_type": "code",
   "execution_count": 26,
   "outputs": [],
   "source": [
    "# RatingswUI.to_csv('./project/RatingswithUI.csv', index=False)"
   ],
   "metadata": {
    "collapsed": false,
    "pycharm": {
     "name": "#%%\n"
    }
   }
  }
 ],
 "metadata": {
  "kernelspec": {
   "display_name": "Python 3",
   "language": "python",
   "name": "python3"
  },
  "language_info": {
   "codemirror_mode": {
    "name": "ipython",
    "version": 2
   },
   "file_extension": ".py",
   "mimetype": "text/x-python",
   "name": "python",
   "nbconvert_exporter": "python",
   "pygments_lexer": "ipython2",
   "version": "2.7.6"
  }
 },
 "nbformat": 4,
 "nbformat_minor": 0
}